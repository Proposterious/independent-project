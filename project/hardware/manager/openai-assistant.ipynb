{
 "cells": [
  {
   "cell_type": "code",
   "execution_count": 1,
   "metadata": {},
   "outputs": [],
   "source": [
    "import os\n",
    "import time\n",
    "import openai\n",
    "from openai import OpenAI\n",
    "from dotenv import load_dotenv\n",
    "load_dotenv() # bring env variables in for os\n",
    "\n",
    "OPENAI_KEY = os.environ['OPENAI_API_KEY'] # grab api key\n",
    "client = OpenAI(api_key=OPENAI_KEY) # initialize openai connection"
   ]
  },
  {
   "cell_type": "markdown",
   "metadata": {},
   "source": [
    "Step 1: Create an Assistant"
   ]
  },
  {
   "cell_type": "code",
   "execution_count": 2,
   "metadata": {},
   "outputs": [],
   "source": [
    "assistant = client.beta.assistants.create(\n",
    "    name = \"Storyteller\",\n",
    "    instructions = \"You are an interactive storyteller. The user will propose a scenario in which you fill in the blanks and create a story that evolves around the user's decisions. Keep in mind your user will typically be young and the stories should be tailored as such. Limit your responses to three sentences at a time followed by an open-ended question. Replace the main character's name with the users. Speak directly to the user rather than in the third person.\",\n",
    "    tools = [{\"type\": \"code_interpreter\"}],\n",
    "    model = \"gpt-4-turbo\"\n",
    ")"
   ]
  },
  {
   "cell_type": "markdown",
   "metadata": {},
   "source": [
    "Step 2: Create a Thread"
   ]
  },
  {
   "cell_type": "code",
   "execution_count": 3,
   "metadata": {},
   "outputs": [
    {
     "name": "stdout",
     "output_type": "stream",
     "text": [
      "Thread(id='thread_8Zh2vVIaJreJ0EvGQmw5UTSK', created_at=1713417596, metadata={}, object='thread')\n"
     ]
    }
   ],
   "source": [
    "thread = client.beta.threads.create()\n",
    "print(thread)"
   ]
  },
  {
   "cell_type": "markdown",
   "metadata": {},
   "source": [
    "Step 3: Add Message to Thread"
   ]
  },
  {
   "cell_type": "code",
   "execution_count": 4,
   "metadata": {},
   "outputs": [],
   "source": [
    "message = client.beta.threads.messages.create(\n",
    "    thread_id = thread.id,\n",
    "    role = \"user\",\n",
    "    content = \"Introduce me to a story set up in a magical land.\"\n",
    ")"
   ]
  },
  {
   "cell_type": "markdown",
   "metadata": {},
   "source": [
    "Step 4: Run the Assistant"
   ]
  },
  {
   "cell_type": "code",
   "execution_count": 5,
   "metadata": {},
   "outputs": [],
   "source": [
    "run = client.beta.threads.runs.create(\n",
    "    thread_id = thread.id,\n",
    "    assistant_id = assistant.id\n",
    ")"
   ]
  },
  {
   "cell_type": "markdown",
   "metadata": {},
   "source": [
    "Step 5: Display the Assistant's Response"
   ]
  },
  {
   "cell_type": "code",
   "execution_count": 6,
   "metadata": {},
   "outputs": [],
   "source": [
    "while run.status == \"queued\" or run.status == \"in_progress\":\n",
    "    run = client.beta.threads.runs.retrieve(\n",
    "        thread_id=thread.id,\n",
    "        run_id=run.id,\n",
    "    )\n",
    "    time.sleep(0.5)"
   ]
  },
  {
   "cell_type": "code",
   "execution_count": 7,
   "metadata": {},
   "outputs": [
    {
     "name": "stdout",
     "output_type": "stream",
     "text": [
      "Run(id='run_0IADHTqLtRrrBJeJBH638IG1', assistant_id='asst_iXOUJCfVv03zlXrmH9eS6eCM', cancelled_at=None, completed_at=1713417619, created_at=1713417596, expires_at=None, failed_at=None, file_ids=[], instructions=\"You are an interactive storyteller. The user will propose a scenario in which you fill in the blanks and create a story that evolves around the user's decisions.\", last_error=None, metadata={}, model='gpt-4-turbo', object='thread.run', required_action=None, started_at=1713417596, status='completed', thread_id='thread_8Zh2vVIaJreJ0EvGQmw5UTSK', tools=[CodeInterpreterTool(type='code_interpreter')], usage=Usage(completion_tokens=460, prompt_tokens=145, total_tokens=605), temperature=1.0, top_p=1.0, max_completion_tokens=None, max_prompt_tokens=None, truncation_strategy={'type': 'auto', 'last_messages': None}, incomplete_details=None, response_format='auto', tool_choice='auto')\n",
      "user : Introduce me to a story set up in a magical land.\n",
      "assistant : In the mystical realm of Eldoria, a land veiled in perpetual mist and glittering with enchantment, the lives of its inhabitants are intertwined with the magical forces that pervade every rock, tree, and stream. Eldoria, known also as the Shimmering Dominion, is ruled by the benevolent Queen Elara, a wise and just monarch gifted with the ability to commune with the natural elements.\n",
      "\n",
      "The realm is divided into five regions, each distinct in its landscapes and magical properties:\n",
      "\n",
      "1. **The Whispering Woods** - A dense forest in the west, inhabited by mythical creatures and guarded by ancient, talking trees that hold the secrets of the land.\n",
      "2. **The Sapphire Sea** - A vast and beautiful ocean to the south, whose waters are said to have healing properties and where merfolk orchestrate the flow of tides and currents.\n",
      "3. **The Sunlit Highlands** - Rolling hills and mountains in the east that bask in eternal sunlight, the home of the sky spirits who control the weather and the changing of seasons.\n",
      "4. **The Twilight Vale** - A mysterious and shadowy valley in the north, where night creatures and spirits dwell, and the moon holds a special enchantment over the land.\n",
      "5. **The Crystal City** - At the heart of Eldoria lies the shimmering capital, built from crystals that glow with an ethereal light, housing the palace of Queen Elara and the Council of Magi, a group of the most powerful sorcerers in the land.\n",
      "\n",
      "However, peace in Eldoria is threatened as dark rumors spread about a rising force in the Twilight Vale, where a forgotten magic has been reawakened. The once harmonious whispering amongst the creatures has turned into hushed tones of worry and fear.\n",
      "\n",
      "Queen Elara, sensing the disturbance, calls upon heroes from each of the five regions to gather at the Crystal City. These heroes are set to embark on a quest to discover the source of the disturbance, and ensure the stability and harmony of Eldoria.\n",
      "\n",
      "Among these heroes is our protagonist, a young adventurer with an extraordinary gift yet to be discovered. Their journey begins at the grand Crystal City, where destinies will intertwine, and the tales of courage, friendship, and magic will unfold.\n"
     ]
    }
   ],
   "source": [
    "messages = client.beta.threads.messages.list(\n",
    "    thread_id = thread.id\n",
    ")\n",
    "\n",
    "print(run)\n",
    "\n",
    "for message in reversed(messages.data):\n",
    "    print(message.role + \" : \" + message.content[0].text.value)"
   ]
  }
 ],
 "metadata": {
  "kernelspec": {
   "display_name": "Python 3",
   "language": "python",
   "name": "python3"
  },
  "language_info": {
   "codemirror_mode": {
    "name": "ipython",
    "version": 3
   },
   "file_extension": ".py",
   "mimetype": "text/x-python",
   "name": "python",
   "nbconvert_exporter": "python",
   "pygments_lexer": "ipython3",
   "version": "3.12.0"
  }
 },
 "nbformat": 4,
 "nbformat_minor": 2
}
