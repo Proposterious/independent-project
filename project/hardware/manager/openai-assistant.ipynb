{
 "cells": [
  {
   "cell_type": "code",
   "execution_count": 1,
   "metadata": {},
   "outputs": [],
   "source": [
    "import os\n",
    "import time\n",
    "import openai\n",
    "from openai import OpenAI\n",
    "from dotenv import load_dotenv\n",
    "load_dotenv() # bring env variables in for os\n",
    "\n",
    "OPENAI_KEY = os.environ['OPENAI_API_KEY'] # grab api key\n",
    "client = OpenAI(api_key=OPENAI_KEY) # initialize openai connection"
   ]
  },
  {
   "cell_type": "markdown",
   "metadata": {},
   "source": [
    "Step 1: Create an Assistant"
   ]
  },
  {
   "cell_type": "code",
   "execution_count": 2,
   "metadata": {},
   "outputs": [],
   "source": [
    "assistant = client.beta.assistants.create(\n",
    "    name = \"Storyteller\",\n",
    "    instructions = \"You are an interactive storyteller. The user will propose a scenario in which you fill in the blanks and create a story that evolves around the user's decisions.\",\n",
    "    tools = [{\"type\": \"code_interpreter\"}],\n",
    "    model = \"gpt-4-turbo\"\n",
    ")"
   ]
  },
  {
   "cell_type": "markdown",
   "metadata": {},
   "source": [
    "Step 2: Create a Thread"
   ]
  },
  {
   "cell_type": "code",
   "execution_count": 3,
   "metadata": {},
   "outputs": [
    {
     "name": "stdout",
     "output_type": "stream",
     "text": [
      "Thread(id='thread_MODSbhxlQ1TLIKn2uT0m4T8y', created_at=1713376462, metadata={}, object='thread')\n"
     ]
    }
   ],
   "source": [
    "thread = client.beta.threads.create()\n",
    "print(thread)"
   ]
  },
  {
   "cell_type": "markdown",
   "metadata": {},
   "source": [
    "Step 3: Add Message to Thread"
   ]
  },
  {
   "cell_type": "code",
   "execution_count": 4,
   "metadata": {},
   "outputs": [],
   "source": [
    "message = client.beta.threads.messages.create(\n",
    "    thread_id = thread.id,\n",
    "    role = \"user\",\n",
    "    content = \"Introduce me to a story set up in a magical land.\"\n",
    ")"
   ]
  },
  {
   "cell_type": "markdown",
   "metadata": {},
   "source": [
    "Step 4: Run the Assistant"
   ]
  },
  {
   "cell_type": "code",
   "execution_count": 5,
   "metadata": {},
   "outputs": [],
   "source": [
    "run = client.beta.threads.runs.create(\n",
    "    thread_id = thread.id,\n",
    "    assistant_id = assistant.id\n",
    ")"
   ]
  },
  {
   "cell_type": "markdown",
   "metadata": {},
   "source": [
    "Step 5: Display the Assistant's Response"
   ]
  },
  {
   "cell_type": "code",
   "execution_count": 6,
   "metadata": {},
   "outputs": [],
   "source": [
    "while run.status == \"queued\" or run.status == \"in_progress\":\n",
    "    run = client.beta.threads.runs.retrieve(\n",
    "        thread_id=thread.id,\n",
    "        run_id=run.id,\n",
    "    )\n",
    "    time.sleep(0.5)"
   ]
  },
  {
   "cell_type": "code",
   "execution_count": 7,
   "metadata": {},
   "outputs": [
    {
     "name": "stdout",
     "output_type": "stream",
     "text": [
      "user : Introduce me to a story set up in a magical land.\n",
      "assistant : In the serene and mystical land of Eldoria, magic weaves through the very fabric of existence. This enchanted realm, hidden from the ordinary human eye, is populated by various magical creatures and beings, from wise old wizards to mischievous fairies, towering giants to cryptic sphinxes. The sky of Eldoria dances with iridescent colors, a result of the perpetual aurora that shimmers above, a spectacle of magic so intense and pure.\n",
      "\n",
      "Eldoria is divided into four principal regions, each protected by an Elemental Guardian. To the North lies the Citadel of Frost, governed by the Ice Guardian, a realm of eternal winter and dazzling snowscapes. The East is home to the Whispering Forest, watched over by the Forest Guardian, a dense, lush area filled with ancient trees and secrets untold. The South houses the Emberfall Desert, under the protection of the Fire Guardian, a land of shifting sands and mirage full of mystery. Lastly, to the West is the domain of the Water Guardian, the Tranquil Lakes, an expanse of calm waters and flowing rivers that mirror the sky.\n",
      "\n",
      "At the center of Eldoria stands the Tower of Harmony, a legendary structure said to balance all the magical forces in the land. It is here that the Council of Guardians meets to discuss matters of great importance and ensure the stability of magic in Eldoria.\n",
      "\n",
      "Our story begins in the tranquil village of Willowmist, nestled on the outskirts of the Whispering Forest. The villagers of Willowmist are known for their deep knowledge of herbal lore and ancient spells. Amidst these villagers, a young apprentice named Elara dreams of adventure and yearning to explore beyond her small world. Little does she know, her wish is about to be granted in a way she never imagined, setting her on a path that will intertwine with the fate of all Eldoria.\n"
     ]
    }
   ],
   "source": [
    "messages = client.beta.threads.messages.list(\n",
    "    thread_id = thread.id\n",
    ")\n",
    "\n",
    "for message in reversed(messages.data):\n",
    "    print(message.role + \" : \" + message.content[0].text.value)"
   ]
  }
 ],
 "metadata": {
  "kernelspec": {
   "display_name": "Python 3",
   "language": "python",
   "name": "python3"
  },
  "language_info": {
   "codemirror_mode": {
    "name": "ipython",
    "version": 3
   },
   "file_extension": ".py",
   "mimetype": "text/x-python",
   "name": "python",
   "nbconvert_exporter": "python",
   "pygments_lexer": "ipython3",
   "version": "3.12.0"
  }
 },
 "nbformat": 4,
 "nbformat_minor": 2
}
