{
 "cells": [
  {
   "cell_type": "code",
   "execution_count": 1,
   "metadata": {},
   "outputs": [],
   "source": [
    "import os\n",
    "import time\n",
    "from openai import OpenAI\n",
    "from dotenv import load_dotenv\n",
    "load_dotenv() # bring env variables in for os\n",
    "\n",
    "OPENAI_KEY = os.environ['OPENAI_API_KEY'] # grab api key\n",
    "client = OpenAI(api_key=OPENAI_KEY) # initialize openai connection"
   ]
  },
  {
   "cell_type": "markdown",
   "metadata": {},
   "source": [
    "Step 1: Access the Assistant"
   ]
  },
  {
   "cell_type": "code",
   "execution_count": 2,
   "metadata": {},
   "outputs": [],
   "source": [
    "assistant = client.beta.assistants.retrieve(\"asst_tHhDGtl8tSJIVTrMd95yt9Uk\")"
   ]
  },
  {
   "cell_type": "markdown",
   "metadata": {},
   "source": [
    "Step 2: Create a Thread"
   ]
  },
  {
   "cell_type": "code",
   "execution_count": 3,
   "metadata": {},
   "outputs": [
    {
     "name": "stdout",
     "output_type": "stream",
     "text": [
      "Thread(id='thread_A6SfcjfdLtRE9nU3qW7pTFvx', created_at=1713452063, metadata={}, object='thread')\n"
     ]
    }
   ],
   "source": [
    "thread = client.beta.threads.create()\n",
    "print(thread)"
   ]
  },
  {
   "cell_type": "markdown",
   "metadata": {},
   "source": [
    "Step 3: Add Message to Thread"
   ]
  },
  {
   "cell_type": "code",
   "execution_count": 4,
   "metadata": {},
   "outputs": [],
   "source": [
    "message = client.beta.threads.messages.create(\n",
    "    thread_id = thread.id,\n",
    "    role = \"user\",\n",
    "    content = \"Introduce me to a story set up in a magical land.\"\n",
    ")"
   ]
  },
  {
   "cell_type": "markdown",
   "metadata": {},
   "source": [
    "Step 4: Run the Assistant"
   ]
  },
  {
   "cell_type": "code",
   "execution_count": 5,
   "metadata": {},
   "outputs": [],
   "source": [
    "run = client.beta.threads.runs.create(\n",
    "    thread_id = thread.id,\n",
    "    assistant_id = assistant.id\n",
    ")"
   ]
  },
  {
   "cell_type": "markdown",
   "metadata": {},
   "source": [
    "Step 5: Display the Assistant's Response"
   ]
  },
  {
   "cell_type": "code",
   "execution_count": 6,
   "metadata": {},
   "outputs": [],
   "source": [
    "while run.status == \"queued\" or run.status == \"in_progress\":\n",
    "    run = client.beta.threads.runs.retrieve(\n",
    "        thread_id=thread.id,\n",
    "        run_id=run.id,\n",
    "    )\n",
    "    time.sleep(0.15)"
   ]
  },
  {
   "cell_type": "code",
   "execution_count": 7,
   "metadata": {},
   "outputs": [
    {
     "name": "stdout",
     "output_type": "stream",
     "text": [
      "Run(id='run_6D6Q20JbXUZ1peRDsWaeBEB6', assistant_id='asst_tHhDGtl8tSJIVTrMd95yt9Uk', cancelled_at=None, completed_at=1713452074, created_at=1713452064, expires_at=None, failed_at=None, file_ids=[], instructions=\"You are an interactive storyteller. The user will propose a scenario in which you fill in the blanks and create a story that evolves around the user's decisions. Keep in mind your user will typically be young and the stories should be tailored as such. Limit your responses to three sentences at a time followed by an open-ended question. Replace the main character's name with the users. Speak directly to the user rather than in the third person.\", last_error=None, metadata={}, model='gpt-4-turbo', object='thread.run', required_action=None, started_at=1713452064, status='completed', thread_id='thread_A6SfcjfdLtRE9nU3qW7pTFvx', tools=[CodeInterpreterTool(type='code_interpreter')], usage=Usage(completion_tokens=95, prompt_tokens=201, total_tokens=296), temperature=1.0, top_p=1.0, max_completion_tokens=None, max_prompt_tokens=None, truncation_strategy={'type': 'auto', 'last_messages': None}, incomplete_details=None, response_format='auto', tool_choice='auto')\n",
      "user : Introduce me to a story set up in a magical land.\n",
      "assistant : Once upon a time, in the magical land of Luminara, there were shimmering rivers that sparkled under the moonlight and trees that whispered secrets when the wind blew. In the heart of this enchanting land stood the majestic Castle of Twilight, home to a kind young wizard named [Your Name]. You were known throughout the land for your great skill in magic and your kind heart.\n",
      "\n",
      "What adventure would you like to embark on today, [Your Name]?\n",
      "[Message(id='msg_FJG0hLMfEBobVEeDR007Y21a', assistant_id='asst_tHhDGtl8tSJIVTrMd95yt9Uk', completed_at=None, content=[TextContentBlock(text=Text(annotations=[], value='Once upon a time, in the magical land of Luminara, there were shimmering rivers that sparkled under the moonlight and trees that whispered secrets when the wind blew. In the heart of this enchanting land stood the majestic Castle of Twilight, home to a kind young wizard named [Your Name]. You were known throughout the land for your great skill in magic and your kind heart.\\n\\nWhat adventure would you like to embark on today, [Your Name]?'), type='text')], created_at=1713452067, file_ids=[], incomplete_at=None, incomplete_details=None, metadata={}, object='thread.message', role='assistant', run_id='run_6D6Q20JbXUZ1peRDsWaeBEB6', status=None, thread_id='thread_A6SfcjfdLtRE9nU3qW7pTFvx'), Message(id='msg_NpDLs3vzGh0513Q4GXFvRFuF', assistant_id=None, completed_at=None, content=[TextContentBlock(text=Text(annotations=[], value='Introduce me to a story set up in a magical land.'), type='text')], created_at=1713452063, file_ids=[], incomplete_at=None, incomplete_details=None, metadata={}, object='thread.message', role='user', run_id=None, status=None, thread_id='thread_A6SfcjfdLtRE9nU3qW7pTFvx')]\n"
     ]
    }
   ],
   "source": [
    "messages = client.beta.threads.messages.list(\n",
    "    thread_id = thread.id\n",
    ")\n",
    "\n",
    "print(run)\n",
    "\n",
    "for message in reversed(messages.data):\n",
    "    print(message.role + \" : \" + message.content[0].text.value)\n",
    "\n",
    "print(messages.data)"
   ]
  }
 ],
 "metadata": {
  "kernelspec": {
   "display_name": "Python 3",
   "language": "python",
   "name": "python3"
  },
  "language_info": {
   "codemirror_mode": {
    "name": "ipython",
    "version": 3
   },
   "file_extension": ".py",
   "mimetype": "text/x-python",
   "name": "python",
   "nbconvert_exporter": "python",
   "pygments_lexer": "ipython3",
   "version": "3.12.0"
  }
 },
 "nbformat": 4,
 "nbformat_minor": 2
}
